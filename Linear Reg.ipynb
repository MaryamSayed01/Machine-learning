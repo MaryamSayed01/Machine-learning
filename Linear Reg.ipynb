{
 "cells": [
  {
   "cell_type": "code",
   "execution_count": 1,
   "id": "dbf1fe1f",
   "metadata": {},
   "outputs": [],
   "source": [
    "import pandas as pd\n",
    "import numpy as np\n",
    "import seaborn as sns\n",
    "import matplotlib.pyplot as plt\n",
    "import statsmodels.formula.api as smf\n",
    "from sklearn.linear_model import LinearRegression\n",
    "from sklearn import metrics\n",
    "from sklearn.model_selection import train_test_split\n"
   ]
  },
  {
   "cell_type": "code",
   "execution_count": 47,
   "id": "c944e478",
   "metadata": {},
   "outputs": [
    {
     "data": {
      "text/html": [
       "<div>\n",
       "<style scoped>\n",
       "    .dataframe tbody tr th:only-of-type {\n",
       "        vertical-align: middle;\n",
       "    }\n",
       "\n",
       "    .dataframe tbody tr th {\n",
       "        vertical-align: top;\n",
       "    }\n",
       "\n",
       "    .dataframe thead th {\n",
       "        text-align: right;\n",
       "    }\n",
       "</style>\n",
       "<table border=\"1\" class=\"dataframe\">\n",
       "  <thead>\n",
       "    <tr style=\"text-align: right;\">\n",
       "      <th></th>\n",
       "      <th>Avg. Area Income</th>\n",
       "      <th>Avg. Area House Age</th>\n",
       "      <th>Avg. Area Number of Rooms</th>\n",
       "      <th>Avg. Area Number of Bedrooms</th>\n",
       "      <th>Area Population</th>\n",
       "      <th>Price</th>\n",
       "    </tr>\n",
       "  </thead>\n",
       "  <tbody>\n",
       "    <tr>\n",
       "      <th>0</th>\n",
       "      <td>1.028557</td>\n",
       "      <td>-0.296897</td>\n",
       "      <td>0.021272</td>\n",
       "      <td>0.088053</td>\n",
       "      <td>-1.317467</td>\n",
       "      <td>-0.490032</td>\n",
       "    </tr>\n",
       "    <tr>\n",
       "      <th>1</th>\n",
       "      <td>1.000708</td>\n",
       "      <td>0.025899</td>\n",
       "      <td>-0.255481</td>\n",
       "      <td>-0.722229</td>\n",
       "      <td>0.403959</td>\n",
       "      <td>0.775431</td>\n",
       "    </tr>\n",
       "    <tr>\n",
       "      <th>2</th>\n",
       "      <td>-0.684561</td>\n",
       "      <td>-0.112292</td>\n",
       "      <td>1.516092</td>\n",
       "      <td>0.930747</td>\n",
       "      <td>0.072403</td>\n",
       "      <td>-0.490162</td>\n",
       "    </tr>\n",
       "    <tr>\n",
       "      <th>3</th>\n",
       "      <td>-0.491450</td>\n",
       "      <td>1.221450</td>\n",
       "      <td>-1.392938</td>\n",
       "      <td>-0.584481</td>\n",
       "      <td>-0.186716</td>\n",
       "      <td>0.080835</td>\n",
       "    </tr>\n",
       "    <tr>\n",
       "      <th>4</th>\n",
       "      <td>-0.806992</td>\n",
       "      <td>-0.944739</td>\n",
       "      <td>0.846657</td>\n",
       "      <td>0.201493</td>\n",
       "      <td>-0.988289</td>\n",
       "      <td>-1.702348</td>\n",
       "    </tr>\n",
       "    <tr>\n",
       "      <th>...</th>\n",
       "      <td>...</td>\n",
       "      <td>...</td>\n",
       "      <td>...</td>\n",
       "      <td>...</td>\n",
       "      <td>...</td>\n",
       "      <td>...</td>\n",
       "    </tr>\n",
       "    <tr>\n",
       "      <th>4995</th>\n",
       "      <td>-0.752033</td>\n",
       "      <td>1.869110</td>\n",
       "      <td>-0.845504</td>\n",
       "      <td>-0.422425</td>\n",
       "      <td>-1.342598</td>\n",
       "      <td>-0.486747</td>\n",
       "    </tr>\n",
       "    <tr>\n",
       "      <th>4996</th>\n",
       "      <td>0.929647</td>\n",
       "      <td>1.030719</td>\n",
       "      <td>-0.408645</td>\n",
       "      <td>0.031334</td>\n",
       "      <td>-1.062641</td>\n",
       "      <td>0.709523</td>\n",
       "    </tr>\n",
       "    <tr>\n",
       "      <th>4997</th>\n",
       "      <td>-0.487186</td>\n",
       "      <td>1.284342</td>\n",
       "      <td>-2.170052</td>\n",
       "      <td>-1.500101</td>\n",
       "      <td>-0.291907</td>\n",
       "      <td>-0.570187</td>\n",
       "    </tr>\n",
       "    <tr>\n",
       "      <th>4998</th>\n",
       "      <td>-0.054586</td>\n",
       "      <td>-0.446650</td>\n",
       "      <td>0.141526</td>\n",
       "      <td>1.181935</td>\n",
       "      <td>0.651051</td>\n",
       "      <td>-0.094631</td>\n",
       "    </tr>\n",
       "    <tr>\n",
       "      <th>4999</th>\n",
       "      <td>-0.288284</td>\n",
       "      <td>0.015213</td>\n",
       "      <td>-0.194322</td>\n",
       "      <td>0.071848</td>\n",
       "      <td>1.041520</td>\n",
       "      <td>0.189392</td>\n",
       "    </tr>\n",
       "  </tbody>\n",
       "</table>\n",
       "<p>5000 rows × 6 columns</p>\n",
       "</div>"
      ],
      "text/plain": [
       "      Avg. Area Income  Avg. Area House Age  Avg. Area Number of Rooms  \\\n",
       "0             1.028557            -0.296897                   0.021272   \n",
       "1             1.000708             0.025899                  -0.255481   \n",
       "2            -0.684561            -0.112292                   1.516092   \n",
       "3            -0.491450             1.221450                  -1.392938   \n",
       "4            -0.806992            -0.944739                   0.846657   \n",
       "...                ...                  ...                        ...   \n",
       "4995         -0.752033             1.869110                  -0.845504   \n",
       "4996          0.929647             1.030719                  -0.408645   \n",
       "4997         -0.487186             1.284342                  -2.170052   \n",
       "4998         -0.054586            -0.446650                   0.141526   \n",
       "4999         -0.288284             0.015213                  -0.194322   \n",
       "\n",
       "      Avg. Area Number of Bedrooms  Area Population     Price  \n",
       "0                         0.088053        -1.317467 -0.490032  \n",
       "1                        -0.722229         0.403959  0.775431  \n",
       "2                         0.930747         0.072403 -0.490162  \n",
       "3                        -0.584481        -0.186716  0.080835  \n",
       "4                         0.201493        -0.988289 -1.702348  \n",
       "...                            ...              ...       ...  \n",
       "4995                     -0.422425        -1.342598 -0.486747  \n",
       "4996                      0.031334        -1.062641  0.709523  \n",
       "4997                     -1.500101        -0.291907 -0.570187  \n",
       "4998                      1.181935         0.651051 -0.094631  \n",
       "4999                      0.071848         1.041520  0.189392  \n",
       "\n",
       "[5000 rows x 6 columns]"
      ]
     },
     "execution_count": 47,
     "metadata": {},
     "output_type": "execute_result"
    }
   ],
   "source": [
    "houseDF = pd.read_csv('USA_Housing.csv')\n",
    "houseDF = houseDF.drop(columns=\"Address\")\n",
    "houseDF.head()\n",
    "# houseDF['Avg. Area Income']=(houseDF['Avg. Area Income']-houseDF['Avg. Area Income'].mean())/houseDF['Avg. Area Income'].std()\n",
    "for col in houseDF:\n",
    "    houseDF[col]=(houseDF[col]-houseDF[col].mean())/houseDF[col].std()\n",
    "houseDF"
   ]
  },
  {
   "cell_type": "code",
   "execution_count": 48,
   "id": "3d6678a6",
   "metadata": {},
   "outputs": [
    {
     "data": {
      "text/plain": [
       "array([[-0.49003245],\n",
       "       [ 0.77543074],\n",
       "       [-0.4901615 ],\n",
       "       ...,\n",
       "       [-0.57018697],\n",
       "       [-0.09463074],\n",
       "       [ 0.18939249]])"
      ]
     },
     "execution_count": 48,
     "metadata": {},
     "output_type": "execute_result"
    }
   ],
   "source": [
    "X=houseDF.iloc[0:,0:5]\n",
    "X[5]=1\n",
    "X=np.array(X)\n",
    "y=np.array(houseDF.iloc[0:,5:])\n",
    "y"
   ]
  },
  {
   "cell_type": "code",
   "execution_count": 49,
   "id": "03f9d50c",
   "metadata": {},
   "outputs": [],
   "source": [
    "def cost(data,params):\n",
    "    total_cost=0\n",
    "    for i in range(5000):\n",
    "        total_cost+=(1/5000)*((data[i]*params).sum()-y[i])**2\n",
    "    return total_cost\n",
    "#GD\n",
    "def gd(data,params,alpha,iteration):\n",
    "    for i in range(iteration):\n",
    "        slopes=np.zeros(6)\n",
    "        for j in range(5000):\n",
    "            for k in range(6):\n",
    "                slopes[k]+=(1/5000)*((data[j]*params).sum()-y[j])*data[j][k]\n",
    "        params=params-(alpha*slopes)\n",
    "        print(cost(data,params))\n",
    "        return params"
   ]
  },
  {
   "cell_type": "code",
   "execution_count": 52,
   "id": "ebd35430",
   "metadata": {},
   "outputs": [
    {
     "name": "stdout",
     "output_type": "stream",
     "text": [
      "[0.98144463]\n",
      "[6.39605832e-03 4.52452029e-03 3.35597320e-03 1.71036813e-03\n",
      " 4.08474168e-03 1.50397137e-17]\n"
     ]
    }
   ],
   "source": [
    "params=np.zeros(6)\n",
    "lrate=0.01\n",
    "iterval=1000\n",
    "params=gd(X,params,lrate,iterval)\n",
    "print(params)"
   ]
  },
  {
   "cell_type": "code",
   "execution_count": 54,
   "id": "994d6f15",
   "metadata": {},
   "outputs": [
    {
     "name": "stdout",
     "output_type": "stream",
     "text": [
      "[0.98144463]\n"
     ]
    }
   ],
   "source": [
    "print(cost(X,params))\n"
   ]
  },
  {
   "cell_type": "code",
   "execution_count": null,
   "id": "13f8e772",
   "metadata": {},
   "outputs": [],
   "source": []
  },
  {
   "cell_type": "code",
   "execution_count": null,
   "id": "b4f9dc31",
   "metadata": {},
   "outputs": [],
   "source": []
  }
 ],
 "metadata": {
  "kernelspec": {
   "display_name": "Python 3 (ipykernel)",
   "language": "python",
   "name": "python3"
  },
  "language_info": {
   "codemirror_mode": {
    "name": "ipython",
    "version": 3
   },
   "file_extension": ".py",
   "mimetype": "text/x-python",
   "name": "python",
   "nbconvert_exporter": "python",
   "pygments_lexer": "ipython3",
   "version": "3.8.5"
  }
 },
 "nbformat": 4,
 "nbformat_minor": 5
}
